{
 "cells": [
  {
   "cell_type": "code",
   "execution_count": 1,
   "metadata": {},
   "outputs": [],
   "source": [
    "import torch\n",
    "from functools import partial\n",
    "from torch.utils.data import DataLoader\n",
    "from torchtext.data import to_map_style_dataset\n",
    "from torchtext.data.utils import get_tokenizer\n",
    "from torchtext.vocab import build_vocab_from_iterator\n",
    "from torchtext.datasets import WikiText2, WikiText103"
   ]
  },
  {
   "cell_type": "code",
   "execution_count": 3,
   "metadata": {},
   "outputs": [],
   "source": [
    "CBOW_N_WORDS = 4\n",
    "SKIPGRAM_N_WORDS = 4\n",
    "\n",
    "MIN_WORD_FREQUENCY = 50\n",
    "MAX_SEQUENCE_LENGTH = 256\n",
    "\n",
    "EMBED_DIMENSION = 300\n",
    "EMBED_MAX_NORM = 1"
   ]
  },
  {
   "cell_type": "code",
   "execution_count": 4,
   "metadata": {},
   "outputs": [],
   "source": [
    "def get_english_tokenizer():\n",
    "    \"\"\"\n",
    "    Documentation:\n",
    "    https://pytorch.org/text/stable/_modules/torchtext/data/utils.html#get_tokenizer\n",
    "    \"\"\"\n",
    "    tokenizer = get_tokenizer(\"basic_english\", language=\"en\")\n",
    "    return tokenizer"
   ]
  },
  {
   "cell_type": "code",
   "execution_count": 5,
   "metadata": {},
   "outputs": [],
   "source": [
    "def get_data_iterator(ds_name, ds_type, data_dir):\n",
    "    if ds_name == \"WikiText2\":\n",
    "        data_iter = WikiText2(root=data_dir, split=(ds_type))\n",
    "    elif ds_name == \"WikiText103\":\n",
    "        data_iter = WikiText103(root=data_dir, split=(ds_type))\n",
    "    else:\n",
    "        raise ValueError(\"Choose dataset from: WikiText2, WikiText103\")\n",
    "    data_iter = to_map_style_dataset(data_iter)\n",
    "    return data_iter"
   ]
  },
  {
   "cell_type": "code",
   "execution_count": 6,
   "metadata": {},
   "outputs": [],
   "source": [
    "def build_vocab(data_iter, tokenizer):\n",
    "    \"\"\"Builds vocabulary from iterator\"\"\"\n",
    "    \n",
    "    vocab = build_vocab_from_iterator(\n",
    "        map(tokenizer, data_iter),\n",
    "        specials=[\"<unk>\"],\n",
    "        min_freq=MIN_WORD_FREQUENCY,\n",
    "    )\n",
    "    vocab.set_default_index(vocab[\"<unk>\"])\n",
    "    return vocab"
   ]
  },
  {
   "cell_type": "code",
   "execution_count": null,
   "metadata": {},
   "outputs": [],
   "source": []
  }
 ],
 "metadata": {
  "kernelspec": {
   "display_name": "Python 3.10.6 ('attenwhore')",
   "language": "python",
   "name": "python3"
  },
  "language_info": {
   "codemirror_mode": {
    "name": "ipython",
    "version": 3
   },
   "file_extension": ".py",
   "mimetype": "text/x-python",
   "name": "python",
   "nbconvert_exporter": "python",
   "pygments_lexer": "ipython3",
   "version": "3.10.6"
  },
  "orig_nbformat": 4,
  "vscode": {
   "interpreter": {
    "hash": "728330e26e9121d5b50e3854b1188ab90c7ba41dbab680e56e74aded888e54d4"
   }
  }
 },
 "nbformat": 4,
 "nbformat_minor": 2
}
