{
 "cells": [
  {
   "cell_type": "code",
   "execution_count": 1,
   "metadata": {},
   "outputs": [
    {
     "name": "stdout",
     "output_type": "stream",
     "text": [
      "data has 137629 chars, 81 unique\n"
     ]
    }
   ],
   "source": [
    "data = open('kafka.txt', 'r').read()\n",
    "\n",
    "chars = list(set(data)) \n",
    "data_size, vocab_size = len(data), len(chars)\n",
    "print('data has %d chars, %d unique' % (data_size, vocab_size))"
   ]
  },
  {
   "cell_type": "code",
   "execution_count": 4,
   "metadata": {},
   "outputs": [
    {
     "name": "stdout",
     "output_type": "stream",
     "text": [
      "['?', 'v', 'Y', 'M', '/', 'Ã', 'i', 'z', 'G', 'n', '8', 'K', 'C', 'F', ',', '9', \"'\", 'U', '@', '6', '4', '-', 'b', 'J', 'w', '(', 'H', 'E', ' ', 'o', '!', 'x', 'm', '.', 'e', ';', '7', 'O', '5', '\"', '*', 'Q', 'f', '2', 'B', 'k', 'd', 'W', 'j', 'A', '1', '3', 'l', 'q', 'a', 'u', 'R', '$', 'c', 'N', '%', 'h', '\\n', '0', 'L', '§', 'y', 't', 'g', ':', ')', 's', 'V', 'S', 'X', 'r', 'P', 'p', 'T', 'D', 'I']\n"
     ]
    }
   ],
   "source": [
    "print(chars)"
   ]
  },
  {
   "cell_type": "code",
   "execution_count": 8,
   "metadata": {},
   "outputs": [
    {
     "name": "stdout",
     "output_type": "stream",
     "text": [
      "{'?': 0, 'v': 1, 'Y': 2, 'M': 3, '/': 4, 'Ã': 5, 'i': 6, 'z': 7, 'G': 8, 'n': 9, '8': 10, 'K': 11, 'C': 12, 'F': 13, ',': 14, '9': 15, \"'\": 16, 'U': 17, '@': 18, '6': 19, '4': 20, '-': 21, 'b': 22, 'J': 23, 'w': 24, '(': 25, 'H': 26, 'E': 27, ' ': 28, 'o': 29, '!': 30, 'x': 31, 'm': 32, '.': 33, 'e': 34, ';': 35, '7': 36, 'O': 37, '5': 38, '\"': 39, '*': 40, 'Q': 41, 'f': 42, '2': 43, 'B': 44, 'k': 45, 'd': 46, 'W': 47, 'j': 48, 'A': 49, '1': 50, '3': 51, 'l': 52, 'q': 53, 'a': 54, 'u': 55, 'R': 56, '$': 57, 'c': 58, 'N': 59, '%': 60, 'h': 61, '\\n': 62, '0': 63, 'L': 64, '§': 65, 'y': 66, 't': 67, 'g': 68, ':': 69, ')': 70, 's': 71, 'V': 72, 'S': 73, 'X': 74, 'r': 75, 'P': 76, 'p': 77, 'T': 78, 'D': 79, 'I': 80}\n",
      "{0: '?', 1: 'v', 2: 'Y', 3: 'M', 4: '/', 5: 'Ã', 6: 'i', 7: 'z', 8: 'G', 9: 'n', 10: '8', 11: 'K', 12: 'C', 13: 'F', 14: ',', 15: '9', 16: \"'\", 17: 'U', 18: '@', 19: '6', 20: '4', 21: '-', 22: 'b', 23: 'J', 24: 'w', 25: '(', 26: 'H', 27: 'E', 28: ' ', 29: 'o', 30: '!', 31: 'x', 32: 'm', 33: '.', 34: 'e', 35: ';', 36: '7', 37: 'O', 38: '5', 39: '\"', 40: '*', 41: 'Q', 42: 'f', 43: '2', 44: 'B', 45: 'k', 46: 'd', 47: 'W', 48: 'j', 49: 'A', 50: '1', 51: '3', 52: 'l', 53: 'q', 54: 'a', 55: 'u', 56: 'R', 57: '$', 58: 'c', 59: 'N', 60: '%', 61: 'h', 62: '\\n', 63: '0', 64: 'L', 65: '§', 66: 'y', 67: 't', 68: 'g', 69: ':', 70: ')', 71: 's', 72: 'V', 73: 'S', 74: 'X', 75: 'r', 76: 'P', 77: 'p', 78: 'T', 79: 'D', 80: 'I'}\n"
     ]
    }
   ],
   "source": [
    "char_to_ix = { ch:i for i,ch in enumerate(chars)}\n",
    "ix_to_char = { i:ch for i, ch in enumerate(chars)}\n",
    "\n",
    "print(char_to_ix)\n",
    "print(ix_to_char)"
   ]
  },
  {
   "cell_type": "code",
   "execution_count": 7,
   "metadata": {},
   "outputs": [],
   "source": [
    "import torch\n",
    "import torch.nn as nn\n",
    "\n",
    "device = torch.device('cuda:0' if torch.cuda.is_available() else 'cpu')\n",
    "emb = nn.Embedding(vocab_size, 3).to(device)"
   ]
  },
  {
   "cell_type": "code",
   "execution_count": 10,
   "metadata": {},
   "outputs": [
    {
     "name": "stdout",
     "output_type": "stream",
     "text": [
      "[[37, 9, 34, 28, 32, 29, 75, 9, 6, 9], [29, 75, 9, 6, 9, 68, 14, 28, 24, 61]]\n"
     ]
    }
   ],
   "source": [
    "p = 0\n",
    "seq_length = 10\n",
    "batch = [[char_to_ix[ch] for ch in data[p:p+seq_length]],\n",
    "         [char_to_ix[ch] for ch in data[p+seq_length//2:p+seq_length+seq_length//2]]]\n",
    "print(batch)"
   ]
  },
  {
   "cell_type": "code",
   "execution_count": 11,
   "metadata": {},
   "outputs": [],
   "source": [
    "t_batch = torch.tensor(batch).to(device)"
   ]
  },
  {
   "cell_type": "code",
   "execution_count": 12,
   "metadata": {},
   "outputs": [],
   "source": [
    "out = emb(t_batch)"
   ]
  },
  {
   "cell_type": "code",
   "execution_count": 14,
   "metadata": {},
   "outputs": [
    {
     "name": "stdout",
     "output_type": "stream",
     "text": [
      "torch.Size([2, 10, 3])\n",
      "tensor([[[-8.6088e-04, -5.1720e-01, -9.3471e-01],\n",
      "         [-1.2962e+00, -1.8000e-02, -1.0277e+00],\n",
      "         [ 9.1245e-01, -2.7598e+00,  7.6352e-01],\n",
      "         [-1.1928e+00, -6.3481e-01, -1.7717e-01],\n",
      "         [ 8.3274e-01,  5.5660e-01,  6.2475e-01],\n",
      "         [-3.6685e-01, -1.4651e+00,  1.0964e+00],\n",
      "         [ 1.1627e+00,  5.5727e-01, -6.8069e-01],\n",
      "         [-1.2962e+00, -1.8000e-02, -1.0277e+00],\n",
      "         [ 1.2781e+00, -6.1634e-01, -1.0922e-01],\n",
      "         [-1.2962e+00, -1.8000e-02, -1.0277e+00]],\n",
      "\n",
      "        [[-3.6685e-01, -1.4651e+00,  1.0964e+00],\n",
      "         [ 1.1627e+00,  5.5727e-01, -6.8069e-01],\n",
      "         [-1.2962e+00, -1.8000e-02, -1.0277e+00],\n",
      "         [ 1.2781e+00, -6.1634e-01, -1.0922e-01],\n",
      "         [-1.2962e+00, -1.8000e-02, -1.0277e+00],\n",
      "         [ 1.7402e+00,  1.5308e-02,  1.4612e+00],\n",
      "         [-1.7775e-01,  6.9145e-01,  9.2594e-01],\n",
      "         [-1.1928e+00, -6.3481e-01, -1.7717e-01],\n",
      "         [ 1.0778e+00,  1.2588e+00, -9.6270e-01],\n",
      "         [-7.5496e-01,  5.3886e-01,  4.2017e-01]]], device='cuda:0',\n",
      "       grad_fn=<EmbeddingBackward0>)\n"
     ]
    }
   ],
   "source": [
    "print(out.shape)\n",
    "print(out)"
   ]
  },
  {
   "cell_type": "code",
   "execution_count": null,
   "metadata": {},
   "outputs": [],
   "source": []
  }
 ],
 "metadata": {
  "kernelspec": {
   "display_name": "Python 3.10.6 ('attenwhore')",
   "language": "python",
   "name": "python3"
  },
  "language_info": {
   "codemirror_mode": {
    "name": "ipython",
    "version": 3
   },
   "file_extension": ".py",
   "mimetype": "text/x-python",
   "name": "python",
   "nbconvert_exporter": "python",
   "pygments_lexer": "ipython3",
   "version": "3.10.6"
  },
  "orig_nbformat": 4,
  "vscode": {
   "interpreter": {
    "hash": "728330e26e9121d5b50e3854b1188ab90c7ba41dbab680e56e74aded888e54d4"
   }
  }
 },
 "nbformat": 4,
 "nbformat_minor": 2
}
