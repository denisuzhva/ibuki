{
 "cells": [
  {
   "cell_type": "code",
   "execution_count": 15,
   "metadata": {},
   "outputs": [],
   "source": [
    "import numpy as np\n",
    "import torch"
   ]
  },
  {
   "cell_type": "code",
   "execution_count": 29,
   "metadata": {},
   "outputs": [
    {
     "name": "stdout",
     "output_type": "stream",
     "text": [
      "tensor([[ 0.,  0.,  0.,  0.],\n",
      "        [ 1.,  1.,  1.,  1.],\n",
      "        [ 2.,  2.,  2.,  2.],\n",
      "        [ 3.,  3.,  3.,  3.],\n",
      "        [ 4.,  4.,  4.,  4.],\n",
      "        [ 5.,  5.,  5.,  5.],\n",
      "        [ 6.,  6.,  6.,  6.],\n",
      "        [ 7.,  7.,  7.,  7.],\n",
      "        [ 8.,  8.,  8.,  8.],\n",
      "        [ 9.,  9.,  9.,  9.],\n",
      "        [10., 10., 10., 10.],\n",
      "        [11., 11., 11., 11.],\n",
      "        [12., 12., 12., 12.],\n",
      "        [13., 13., 13., 13.],\n",
      "        [14., 14., 14., 14.],\n",
      "        [15., 15., 15., 15.],\n",
      "        [16., 16., 16., 16.]])\n"
     ]
    }
   ],
   "source": [
    "patch_size = 4\n",
    "max_dil_deg = 3\n",
    "max_dil_size = 2**max_dil_deg\n",
    "n_patches = 3\n",
    "\n",
    "a = np.arange(max_dil_size * (n_patches - 1) + 1).astype(np.float32)\n",
    "a = np.repeat(a, patch_size) \n",
    "#a += np.random.randn(*a.shape) * 0.1\n",
    "t_a = torch.from_numpy(a)\n",
    "t_a_u = t_a.unfold(0, patch_size, patch_size)\n",
    "print(t_a_u)"
   ]
  },
  {
   "cell_type": "code",
   "execution_count": 33,
   "metadata": {},
   "outputs": [
    {
     "name": "stdout",
     "output_type": "stream",
     "text": [
      "tensor([14., 14., 14., 14., 15., 15., 15., 15., 16., 16., 16., 16.])\n",
      "tensor([12., 12., 12., 12., 14., 14., 14., 14., 16., 16., 16., 16.])\n",
      "tensor([ 8.,  8.,  8.,  8., 12., 12., 12., 12., 16., 16., 16., 16.])\n",
      "tensor([ 0.,  0.,  0.,  0.,  8.,  8.,  8.,  8., 16., 16., 16., 16.])\n"
     ]
    }
   ],
   "source": [
    "for dil_deg in range(max_dil_deg+1):\n",
    "    dil = 2**dil_deg\n",
    "    t_a_selected = t_a_u[::dil, :][-n_patches:]\n",
    "    print(t_a_selected.flatten())"
   ]
  },
  {
   "cell_type": "code",
   "execution_count": null,
   "metadata": {},
   "outputs": [],
   "source": []
  }
 ],
 "metadata": {
  "kernelspec": {
   "display_name": "Python 3.10.6 ('attenwhore')",
   "language": "python",
   "name": "python3"
  },
  "language_info": {
   "codemirror_mode": {
    "name": "ipython",
    "version": 3
   },
   "file_extension": ".py",
   "mimetype": "text/x-python",
   "name": "python",
   "nbconvert_exporter": "python",
   "pygments_lexer": "ipython3",
   "version": "3.10.6"
  },
  "orig_nbformat": 4,
  "vscode": {
   "interpreter": {
    "hash": "728330e26e9121d5b50e3854b1188ab90c7ba41dbab680e56e74aded888e54d4"
   }
  }
 },
 "nbformat": 4,
 "nbformat_minor": 2
}
