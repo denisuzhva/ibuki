{
 "cells": [
  {
   "cell_type": "code",
   "execution_count": 1,
   "metadata": {},
   "outputs": [
    {
     "name": "stdout",
     "output_type": "stream",
     "text": [
      "o:\\dev\\_digisound\\IBUKI_project\\ibuki\n"
     ]
    }
   ],
   "source": [
    "%cd ../.."
   ]
  },
  {
   "cell_type": "code",
   "execution_count": 2,
   "metadata": {},
   "outputs": [],
   "source": [
    "from neurowhore.data_processing.datasets import SimpleDilatedWavHandler\n",
    "from torch.utils.data import DataLoader"
   ]
  },
  {
   "cell_type": "code",
   "execution_count": 13,
   "metadata": {},
   "outputs": [],
   "source": [
    "wav_path = './datasets/wav/wwolves/ww_resurge.wav'\n",
    "patch_size = 2\n",
    "n_patches = 2\n",
    "dilation_depth = 2\n",
    "\n",
    "dataset = SimpleDilatedWavHandler(wav_path, \n",
    "                                  patch_size=patch_size, \n",
    "                                  n_patches=n_patches,\n",
    "                                  dilation_depth=dilation_depth,)\n",
    "batch_size = 1\n",
    "dataloader = DataLoader(dataset, batch_size=batch_size, shuffle=False)"
   ]
  },
  {
   "cell_type": "code",
   "execution_count": 14,
   "metadata": {},
   "outputs": [],
   "source": [
    "for bdx, (sample, target, recept_data) in enumerate(dataloader):\n",
    "    if recept_data.max() > 10000:\n",
    "        break"
   ]
  },
  {
   "cell_type": "code",
   "execution_count": 16,
   "metadata": {},
   "outputs": [
    {
     "name": "stdout",
     "output_type": "stream",
     "text": [
      "tensor([[ 7440,  7913,  7782,  8434,  9330,  7787,  8153,  8832,  6947, 14170]],\n",
      "       dtype=torch.int16)\n",
      "tensor([[[[ 8153.,  8832.],\n",
      "          [ 6947., 14170.]],\n",
      "\n",
      "         [[ 9330.,  7787.],\n",
      "          [ 6947., 14170.]],\n",
      "\n",
      "         [[ 7440.,  7913.],\n",
      "          [ 6947., 14170.]]]])\n"
     ]
    }
   ],
   "source": [
    "print(recept_data)\n",
    "print(sample)"
   ]
  },
  {
   "cell_type": "code",
   "execution_count": null,
   "metadata": {},
   "outputs": [],
   "source": []
  }
 ],
 "metadata": {
  "kernelspec": {
   "display_name": "Python 3.10.6 ('attenwhore')",
   "language": "python",
   "name": "python3"
  },
  "language_info": {
   "codemirror_mode": {
    "name": "ipython",
    "version": 3
   },
   "file_extension": ".py",
   "mimetype": "text/x-python",
   "name": "python",
   "nbconvert_exporter": "python",
   "pygments_lexer": "ipython3",
   "version": "3.10.6"
  },
  "orig_nbformat": 4,
  "vscode": {
   "interpreter": {
    "hash": "728330e26e9121d5b50e3854b1188ab90c7ba41dbab680e56e74aded888e54d4"
   }
  }
 },
 "nbformat": 4,
 "nbformat_minor": 2
}
