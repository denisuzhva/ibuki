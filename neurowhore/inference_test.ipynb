{
 "cells": [
  {
   "cell_type": "code",
   "execution_count": 9,
   "metadata": {},
   "outputs": [],
   "source": [
    "import yaml\n",
    "\n",
    "import torch\n",
    "from neurowhore.nets.sd_net import UWUNet_v1\n",
    "\n",
    "from IPython.display import Audio"
   ]
  },
  {
   "cell_type": "code",
   "execution_count": 10,
   "metadata": {},
   "outputs": [],
   "source": [
    "device = torch.device('cuda:0' if torch.cuda.is_available() else 'cpu')\n",
    " \n",
    "run_name = 'UWUNet_experiment_1'\n",
    "cfg_path = f'./cfg/{run_name}/'\n",
    "\n",
    "checkpoint_dir = './checkpoints/'\n",
    "model_checkpoint_path = checkpoint_dir + run_name + '_model.pth'\n",
    "\n",
    "with open(cfg_path + 'model.yaml') as f:\n",
    "    model_params = yaml.safe_load(f)"
   ]
  },
  {
   "cell_type": "code",
   "execution_count": 11,
   "metadata": {},
   "outputs": [
    {
     "ename": "RuntimeError",
     "evalue": "CUDA out of memory. Tried to allocate 20.00 MiB (GPU 0; 8.00 GiB total capacity; 7.29 GiB already allocated; 0 bytes free; 7.31 GiB reserved in total by PyTorch) If reserved memory is >> allocated memory try setting max_split_size_mb to avoid fragmentation.  See documentation for Memory Management and PYTORCH_CUDA_ALLOC_CONF",
     "output_type": "error",
     "traceback": [
      "\u001b[1;31m---------------------------------------------------------------------------\u001b[0m",
      "\u001b[1;31mRuntimeError\u001b[0m                              Traceback (most recent call last)",
      "Cell \u001b[1;32mIn [11], line 8\u001b[0m\n\u001b[0;32m      1\u001b[0m \u001b[39m#denoiser_model = UWUNet_v1(wav_channels=model_params['wav_channels'],\u001b[39;00m\n\u001b[0;32m      2\u001b[0m \u001b[39m#                           down_channels=model_params['down_channels'],\u001b[39;00m\n\u001b[0;32m      3\u001b[0m \u001b[39m#                           up_channels=model_params['up_channels'],\u001b[39;00m\n\u001b[0;32m      4\u001b[0m \u001b[39m#                           time_emb_dim=model_params['time_emb_dim'],\u001b[39;00m\n\u001b[0;32m      5\u001b[0m \u001b[39m#                           wn_dilation_depth=model_params['wn_dilation_depth'],\u001b[39;00m\n\u001b[0;32m      6\u001b[0m \u001b[39m#                           wn_repeats=model_params['wn_repeats']).to(device)\u001b[39;00m\n\u001b[1;32m----> 8\u001b[0m denoiser_model \u001b[39m=\u001b[39m torch\u001b[39m.\u001b[39;49mload(model_checkpoint_path)\u001b[39m.\u001b[39mto(device)\u001b[39m.\u001b[39meval()\n",
      "File \u001b[1;32mc:\\Users\\epirt\\miniconda3\\envs\\attenwhore\\lib\\site-packages\\torch\\serialization.py:712\u001b[0m, in \u001b[0;36mload\u001b[1;34m(f, map_location, pickle_module, **pickle_load_args)\u001b[0m\n\u001b[0;32m    710\u001b[0m             opened_file\u001b[39m.\u001b[39mseek(orig_position)\n\u001b[0;32m    711\u001b[0m             \u001b[39mreturn\u001b[39;00m torch\u001b[39m.\u001b[39mjit\u001b[39m.\u001b[39mload(opened_file)\n\u001b[1;32m--> 712\u001b[0m         \u001b[39mreturn\u001b[39;00m _load(opened_zipfile, map_location, pickle_module, \u001b[39m*\u001b[39m\u001b[39m*\u001b[39mpickle_load_args)\n\u001b[0;32m    713\u001b[0m \u001b[39mreturn\u001b[39;00m _legacy_load(opened_file, map_location, pickle_module, \u001b[39m*\u001b[39m\u001b[39m*\u001b[39mpickle_load_args)\n",
      "File \u001b[1;32mc:\\Users\\epirt\\miniconda3\\envs\\attenwhore\\lib\\site-packages\\torch\\serialization.py:1049\u001b[0m, in \u001b[0;36m_load\u001b[1;34m(zip_file, map_location, pickle_module, pickle_file, **pickle_load_args)\u001b[0m\n\u001b[0;32m   1047\u001b[0m unpickler \u001b[39m=\u001b[39m UnpicklerWrapper(data_file, \u001b[39m*\u001b[39m\u001b[39m*\u001b[39mpickle_load_args)\n\u001b[0;32m   1048\u001b[0m unpickler\u001b[39m.\u001b[39mpersistent_load \u001b[39m=\u001b[39m persistent_load\n\u001b[1;32m-> 1049\u001b[0m result \u001b[39m=\u001b[39m unpickler\u001b[39m.\u001b[39;49mload()\n\u001b[0;32m   1051\u001b[0m torch\u001b[39m.\u001b[39m_utils\u001b[39m.\u001b[39m_validate_loaded_sparse_tensors()\n\u001b[0;32m   1053\u001b[0m \u001b[39mreturn\u001b[39;00m result\n",
      "File \u001b[1;32mc:\\Users\\epirt\\miniconda3\\envs\\attenwhore\\lib\\site-packages\\torch\\serialization.py:1019\u001b[0m, in \u001b[0;36m_load.<locals>.persistent_load\u001b[1;34m(saved_id)\u001b[0m\n\u001b[0;32m   1017\u001b[0m \u001b[39mif\u001b[39;00m key \u001b[39mnot\u001b[39;00m \u001b[39min\u001b[39;00m loaded_storages:\n\u001b[0;32m   1018\u001b[0m     nbytes \u001b[39m=\u001b[39m numel \u001b[39m*\u001b[39m torch\u001b[39m.\u001b[39m_utils\u001b[39m.\u001b[39m_element_size(dtype)\n\u001b[1;32m-> 1019\u001b[0m     load_tensor(dtype, nbytes, key, _maybe_decode_ascii(location))\n\u001b[0;32m   1021\u001b[0m \u001b[39mreturn\u001b[39;00m loaded_storages[key]\n",
      "File \u001b[1;32mc:\\Users\\epirt\\miniconda3\\envs\\attenwhore\\lib\\site-packages\\torch\\serialization.py:1001\u001b[0m, in \u001b[0;36m_load.<locals>.load_tensor\u001b[1;34m(dtype, numel, key, location)\u001b[0m\n\u001b[0;32m    997\u001b[0m storage \u001b[39m=\u001b[39m zip_file\u001b[39m.\u001b[39mget_storage_from_record(name, numel, torch\u001b[39m.\u001b[39m_UntypedStorage)\u001b[39m.\u001b[39mstorage()\u001b[39m.\u001b[39m_untyped()\n\u001b[0;32m    998\u001b[0m \u001b[39m# TODO: Once we decide to break serialization FC, we can\u001b[39;00m\n\u001b[0;32m    999\u001b[0m \u001b[39m# stop wrapping with _TypedStorage\u001b[39;00m\n\u001b[0;32m   1000\u001b[0m loaded_storages[key] \u001b[39m=\u001b[39m torch\u001b[39m.\u001b[39mstorage\u001b[39m.\u001b[39m_TypedStorage(\n\u001b[1;32m-> 1001\u001b[0m     wrap_storage\u001b[39m=\u001b[39mrestore_location(storage, location),\n\u001b[0;32m   1002\u001b[0m     dtype\u001b[39m=\u001b[39mdtype)\n",
      "File \u001b[1;32mc:\\Users\\epirt\\miniconda3\\envs\\attenwhore\\lib\\site-packages\\torch\\serialization.py:175\u001b[0m, in \u001b[0;36mdefault_restore_location\u001b[1;34m(storage, location)\u001b[0m\n\u001b[0;32m    173\u001b[0m \u001b[39mdef\u001b[39;00m \u001b[39mdefault_restore_location\u001b[39m(storage, location):\n\u001b[0;32m    174\u001b[0m     \u001b[39mfor\u001b[39;00m _, _, fn \u001b[39min\u001b[39;00m _package_registry:\n\u001b[1;32m--> 175\u001b[0m         result \u001b[39m=\u001b[39m fn(storage, location)\n\u001b[0;32m    176\u001b[0m         \u001b[39mif\u001b[39;00m result \u001b[39mis\u001b[39;00m \u001b[39mnot\u001b[39;00m \u001b[39mNone\u001b[39;00m:\n\u001b[0;32m    177\u001b[0m             \u001b[39mreturn\u001b[39;00m result\n",
      "File \u001b[1;32mc:\\Users\\epirt\\miniconda3\\envs\\attenwhore\\lib\\site-packages\\torch\\serialization.py:157\u001b[0m, in \u001b[0;36m_cuda_deserialize\u001b[1;34m(obj, location)\u001b[0m\n\u001b[0;32m    155\u001b[0m         \u001b[39mreturn\u001b[39;00m torch\u001b[39m.\u001b[39m_UntypedStorage(obj\u001b[39m.\u001b[39mnbytes(), device\u001b[39m=\u001b[39mtorch\u001b[39m.\u001b[39mdevice(location))\n\u001b[0;32m    156\u001b[0m \u001b[39melse\u001b[39;00m:\n\u001b[1;32m--> 157\u001b[0m     \u001b[39mreturn\u001b[39;00m obj\u001b[39m.\u001b[39;49mcuda(device)\n",
      "File \u001b[1;32mc:\\Users\\epirt\\miniconda3\\envs\\attenwhore\\lib\\site-packages\\torch\\_utils.py:78\u001b[0m, in \u001b[0;36m_cuda\u001b[1;34m(self, device, non_blocking, **kwargs)\u001b[0m\n\u001b[0;32m     76\u001b[0m     \u001b[39mreturn\u001b[39;00m new_type(indices, values, \u001b[39mself\u001b[39m\u001b[39m.\u001b[39msize())\n\u001b[0;32m     77\u001b[0m \u001b[39melse\u001b[39;00m:\n\u001b[1;32m---> 78\u001b[0m     \u001b[39mreturn\u001b[39;00m torch\u001b[39m.\u001b[39;49m_UntypedStorage(\u001b[39mself\u001b[39;49m\u001b[39m.\u001b[39;49msize(), device\u001b[39m=\u001b[39;49mtorch\u001b[39m.\u001b[39;49mdevice(\u001b[39m'\u001b[39;49m\u001b[39mcuda\u001b[39;49m\u001b[39m'\u001b[39;49m))\u001b[39m.\u001b[39mcopy_(\u001b[39mself\u001b[39m, non_blocking)\n",
      "\u001b[1;31mRuntimeError\u001b[0m: CUDA out of memory. Tried to allocate 20.00 MiB (GPU 0; 8.00 GiB total capacity; 7.29 GiB already allocated; 0 bytes free; 7.31 GiB reserved in total by PyTorch) If reserved memory is >> allocated memory try setting max_split_size_mb to avoid fragmentation.  See documentation for Memory Management and PYTORCH_CUDA_ALLOC_CONF"
     ]
    }
   ],
   "source": [
    "#denoiser_model = UWUNet_v1(wav_channels=model_params['wav_channels'],\n",
    "#                           down_channels=model_params['down_channels'],\n",
    "#                           up_channels=model_params['up_channels'],\n",
    "#                           time_emb_dim=model_params['time_emb_dim'],\n",
    "#                           wn_dilation_depth=model_params['wn_dilation_depth'],\n",
    "#                           wn_repeats=model_params['wn_repeats']).to(device)\n",
    "\n",
    "denoiser_model = torch.load(model_checkpoint_path).to(device).eval()"
   ]
  },
  {
   "cell_type": "code",
   "execution_count": 22,
   "metadata": {},
   "outputs": [
    {
     "name": "stdout",
     "output_type": "stream",
     "text": [
      "tensor([199], device='cuda:0')\n"
     ]
    }
   ],
   "source": [
    "sr = 16000\n",
    "batch_size = 1\n",
    "sample_len = 10000\n",
    "sample = 0.5 * (torch.rand((batch_size, 1, sample_len), device=device) * 2 - 1)\n",
    "\n",
    "t_max = model_params['t_max']\n",
    "t_arange = torch.flip(torch.arange(0, t_max, device=device), (0,))\n",
    "print(t_arange[0:1])"
   ]
  },
  {
   "cell_type": "code",
   "execution_count": 23,
   "metadata": {},
   "outputs": [
    {
     "name": "stderr",
     "output_type": "stream",
     "text": [
      "C:\\Users\\epirt\\AppData\\Local\\Temp\\ipykernel_4136\\371609684.py:1: UserWarning: To copy construct from a tensor, it is recommended to use sourceTensor.clone().detach() or sourceTensor.clone().detach().requires_grad_(True), rather than torch.tensor(sourceTensor).\n",
      "  out = torch.tensor(sample)\n"
     ]
    },
    {
     "name": "stdout",
     "output_type": "stream",
     "text": [
      "tensor([199], device='cuda:0')\n",
      "tensor([189], device='cuda:0')\n",
      "tensor([179], device='cuda:0')\n",
      "tensor([169], device='cuda:0')\n",
      "tensor([159], device='cuda:0')\n",
      "tensor([149], device='cuda:0')\n",
      "tensor([139], device='cuda:0')\n",
      "tensor([129], device='cuda:0')\n",
      "tensor([119], device='cuda:0')\n",
      "tensor([109], device='cuda:0')\n",
      "tensor([99], device='cuda:0')\n",
      "tensor([89], device='cuda:0')\n",
      "tensor([79], device='cuda:0')\n",
      "tensor([69], device='cuda:0')\n",
      "tensor([59], device='cuda:0')\n",
      "tensor([49], device='cuda:0')\n",
      "tensor([39], device='cuda:0')\n",
      "tensor([29], device='cuda:0')\n",
      "tensor([19], device='cuda:0')\n",
      "tensor([9], device='cuda:0')\n"
     ]
    }
   ],
   "source": [
    "out = torch.tensor(sample)\n",
    "with torch.no_grad():\n",
    "    for tdx in range(t_max):\n",
    "        tt = t_arange[tdx:tdx+1]\n",
    "        if tdx % 10 == 0:\n",
    "            print(tt)\n",
    "        out = denoiser_model(out, tt)"
   ]
  },
  {
   "cell_type": "code",
   "execution_count": 24,
   "metadata": {},
   "outputs": [
    {
     "data": {
      "text/html": [
       "\n",
       "                <audio  controls=\"controls\" >\n",
       "                    <source src=\"data:audio/wav;base64,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\" type=\"audio/wav\" />\n",
       "                    Your browser does not support the audio element.\n",
       "                </audio>\n",
       "              "
      ],
      "text/plain": [
       "<IPython.lib.display.Audio object>"
      ]
     },
     "execution_count": 24,
     "metadata": {},
     "output_type": "execute_result"
    }
   ],
   "source": [
    "Audio(data=out.cpu().numpy()[0, 0, :], rate=sr)"
   ]
  },
  {
   "cell_type": "code",
   "execution_count": null,
   "metadata": {},
   "outputs": [],
   "source": []
  }
 ],
 "metadata": {
  "kernelspec": {
   "display_name": "Python 3.10.6 ('attenwhore')",
   "language": "python",
   "name": "python3"
  },
  "language_info": {
   "codemirror_mode": {
    "name": "ipython",
    "version": 3
   },
   "file_extension": ".py",
   "mimetype": "text/x-python",
   "name": "python",
   "nbconvert_exporter": "python",
   "pygments_lexer": "ipython3",
   "version": "3.10.6"
  },
  "orig_nbformat": 4,
  "vscode": {
   "interpreter": {
    "hash": "728330e26e9121d5b50e3854b1188ab90c7ba41dbab680e56e74aded888e54d4"
   }
  }
 },
 "nbformat": 4,
 "nbformat_minor": 2
}
